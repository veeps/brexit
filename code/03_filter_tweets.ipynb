{
 "cells": [
  {
   "cell_type": "code",
   "execution_count": 1,
   "metadata": {},
   "outputs": [],
   "source": [
    "# Import libraries here.\n",
    "import numpy as np\n",
    "import pandas as pd\n",
    "import os\n",
    "from pathlib import Path"
   ]
  },
  {
   "cell_type": "markdown",
   "metadata": {},
   "source": [
    "# Read in all csv files"
   ]
  },
  {
   "cell_type": "code",
   "execution_count": 80,
   "metadata": {},
   "outputs": [],
   "source": [
    "# Create a files variable that contains all of our data files.\n",
    "files = os.listdir(\"../data\")"
   ]
  },
  {
   "cell_type": "code",
   "execution_count": 81,
   "metadata": {},
   "outputs": [],
   "source": [
    "# filter for csv files\n",
    "csvs = [file for file in files if \"csv\" in file]"
   ]
  },
  {
   "cell_type": "code",
   "execution_count": 77,
   "metadata": {},
   "outputs": [],
   "source": [
    "def process_data(file):\n",
    "    df = pd.read_csv(f\"../data/{file}\") # read in file \n",
    "    df.dropna(inplace = True) # drop all NA values\n",
    "    df = df[df[\"text\"].str.contains(\"brexit\")] # select for tweets that include brexit\n",
    "    return df.to_csv(f\"../data/brexit_tweets/{file}\") # write to csv"
   ]
  },
  {
   "cell_type": "code",
   "execution_count": 83,
   "metadata": {},
   "outputs": [
    {
     "data": {
      "text/plain": [
       "['borisjohnson.csv',\n",
       " 'brexitparty_uk.csv',\n",
       " 'Conservatives.csv',\n",
       " 'DUPleader.csv',\n",
       " 'duponline.csv',\n",
       " 'jeremycorbyn.csv',\n",
       " 'joswinson.csv',\n",
       " 'Keir_Starmer.csv',\n",
       " 'LibDems.csv',\n",
       " 'NicolaSturgeon.csv',\n",
       " 'Nigel_Farage.csv',\n",
       " 'theSNP.csv',\n",
       " 'UKLabour.csv']"
      ]
     },
     "execution_count": 83,
     "metadata": {},
     "output_type": "execute_result"
    }
   ],
   "source": [
    "csvs"
   ]
  },
  {
   "cell_type": "code",
   "execution_count": 84,
   "metadata": {},
   "outputs": [],
   "source": [
    "for file in csvs:\n",
    "    process_data(file)"
   ]
  }
 ],
 "metadata": {
  "kernelspec": {
   "display_name": "Python 3",
   "language": "python",
   "name": "python3"
  },
  "language_info": {
   "codemirror_mode": {
    "name": "ipython",
    "version": 3
   },
   "file_extension": ".py",
   "mimetype": "text/x-python",
   "name": "python",
   "nbconvert_exporter": "python",
   "pygments_lexer": "ipython3",
   "version": "3.7.4"
  }
 },
 "nbformat": 4,
 "nbformat_minor": 2
}
