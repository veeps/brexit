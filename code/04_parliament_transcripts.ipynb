{
 "cells": [
  {
   "cell_type": "code",
   "execution_count": 10,
   "metadata": {},
   "outputs": [],
   "source": [
    "import requests\n",
    "import pandas as pd\n",
    "import regex as re\n",
    "from bs4 import BeautifulSoup"
   ]
  },
  {
   "cell_type": "code",
   "execution_count": 91,
   "metadata": {},
   "outputs": [],
   "source": [
    "# urls for search results\n",
    "urls = [\"https://hansard.parliament.uk/Commons/2020-06-24/debates/07717671-F54F-49FD-BE9D-417F2E877B90/ExtensionOfTheBrexitTransitionPeriod\",\n",
    "\"https://hansard.parliament.uk/Commons/2019-10-24/debates/CA934420-EA28-46CE-8F2E-07D453A524BD/No-DealBrexitAirports\",\n",
    "\"https://hansard.parliament.uk/Commons/2019-10-03/debates/585F872D-9372-4448-A32F-5CEC0FD49FB7/BrexitNegotiations\",\n",
    "\"https://hansard.parliament.uk/Commons/2019-09-30/debates/19093016000001/No-DealBrexitShortPositionsAgainstThePound\",\n",
    "\"https://hansard.parliament.uk/Commons/2019-07-16/debates/5AF2DE37-C11C-47CD-874B-882768EFBC68/UKAutomotiveSectorNo-DealBrexit\",\n",
    "\"https://hansard.parliament.uk/Commons/2019-04-04/debates/20585A7D-C3A6-4D10-91CB-A7DA560D7161/BrexitPreparationsCost\",\n",
    "\"https://hansard.parliament.uk/Commons/2019-04-04/debates/20585A7D-C3A6-4D10-91CB-A7DA560D7161/BrexitPreparationsCost\",\n",
    "\"https://hansard.parliament.uk/Commons/2018-09-06/debates/3DBBEA75-1C78-417A-B1C4-8F9AC237F77E/BrexitScienceAndInnovation\",\n",
    "\"https://hansard.parliament.uk/Commons/2018-06-14/debates/D979CC32-6AC4-46CC-9C6E-4B63FC18665A/BrexitTradeInFood\",\n",
    "\"https://hansard.parliament.uk/Commons/2018-03-29/debates/6B1AEA4A-67C4-4461-966C-8EE6E01B546A/Brexit(CreativeIndustries)\",\n",
    "\"https://hansard.parliament.uk/Commons/2018-03-07/debates/B0774102-566A-4D1B-9795-2EEF5BE9DE9C/BrexitDevolution\",\n",
    "\"https://hansard.parliament.uk/Commons/2020-06-03/debates/024466A4-A66E-48F7-B230-CAE85F9DFBCC/ExtensionOfTheBrexitTransitionPeriod\",\n",
    "\"https://hansard.parliament.uk/Commons/2019-10-07/debates/2474624F-217E-4FFA-83E2-BF8480FDC8B8/No-DealBrexitScheduleOfTariffs\",\n",
    "\"https://hansard.parliament.uk/Commons/2019-10-03/debates/BC6DA777-3DE1-49D5-A4AE-E6AA016FC7B3/No-DealBrexitPriorities\",\n",
    "\"https://hansard.parliament.uk/Commons/2019-09-25/debates/B2BCE472-527C-4549-B23F-A34C4D8F4160/BrexitReadinessOperationYellowhammer\",\n",
    "\"https://hansard.parliament.uk/Commons/2019-05-02/debates/79D7AFDE-9CAB-4F09-931B-9946E54DA606/No-DealBrexitCross-ChannelFreight\",\n",
    "\"https://hansard.parliament.uk/Commons/2019-02-06/debates/66BD2BFF-44F4-49F1-B812-EB272FC6CB3A/TheDeliveryOfBrexit\",\n",
    "\"https://hansard.parliament.uk/Commons/2018-09-04/debates/3F1F8363-0A4B-4DB6-B8C0-CC8D64DBF150/BrexitNegotiationsAndNoDealContingencyPlanning\",\n",
    "\"https://hansard.parliament.uk/Commons/2018-03-29/debates/7D606C8E-3872-4E54-95A6-42475FA28837/Brexit(TradeAgreements)\",\n",
    "\"https://hansard.parliament.uk/Commons/2018-03-29/debates/D8A7BBDE-EC7D-4A26-BFBC-906AE1D270C1/Brexit(FoodAndDrinkExports)\",\n",
    "\"https://hansard.parliament.uk/Commons/2017-12-11/debates/965E3010-41F6-4353-A2CC-2F5A6C31495F/BrexitNegotiations\",\n",
    "\"https://hansard.parliament.uk/Commons/2017-12-11/debates/E3B1D9A4-5B9B-4337-8486-C4BE9A46F2BB/BrexitDealReferendum\",\n",
    "\"https://hansard.parliament.uk/Commons/2017-10-25/debates/2E77FF82-9AD5-4D32-B6B5-D4EA4E99D6C0/BrexitFurtherDevolution\",\n",
    "\"https://hansard.parliament.uk/Commons/2017-09-13/debates/1B7FBE62-6203-4B99-AFBF-D43F4077CF04/BrexitDiscussions\",\n",
    "\"https://hansard.parliament.uk/Commons/2017-07-20/debates/3087E6DC-8EB6-4DFD-9B0E-AFE3C1968BB0/BrexitEnvironmentalAndAnimalWelfareStandards\",\n",
    "\"https://hansard.parliament.uk/Commons/2016-12-07/debates/CA09D9B2-9634-41C8-8979-8B9CD82DBB8F/TheGovernmentSPlanForBrexit\",\n",
    "\"https://hansard.parliament.uk/Commons/2016-05-05/debates/160505103000031/Brexit\",\n",
    "\"https://hansard.parliament.uk/Commons/2016-03-08/debates/16030861000024/LegalServices(Brexit)\",\n",
    "\"https://hansard.parliament.uk/Commons/2017-10-25/debates/675A24B6-7C9E-4345-A307-AB92A036897B/BrexitJointMinisterialCommittee\",\n",
    "\"https://hansard.parliament.uk/Commons/2017-10-11/debates/DFA35431-1DEC-4DF2-95AE-3B633500D60E/DevolvedAdministrationsBrexit\",\n",
    "\"https://hansard.parliament.uk/Commons/2017-09-07/debates/86AF2A6F-DE6F-43DA-9175-738A2E27DB4A/BrexitTimetable\",\n",
    "\"https://hansard.parliament.uk/Commons/2017-06-26/debates/23371B16-D7B1-40BA-9816-496F482156D9/BrexitAndForeignAffairs\",\n",
    "\"https://hansard.parliament.uk/Commons/2016-06-07/debates/16060731000017/Brexit\",\n",
    "\"https://hansard.parliament.uk/Commons/2016-03-15/debates/16031546000020/BrexitExports\"]"
   ]
  },
  {
   "cell_type": "code",
   "execution_count": 102,
   "metadata": {},
   "outputs": [],
   "source": [
    "def get_text(url):\n",
    "    # create URL\n",
    "    url = \"https://hansard.parliament.uk/Commons/2019-10-24/debates/CA934420-EA28-46CE-8F2E-07D453A524BD/No-DealBrexitAirports\"\n",
    "\n",
    "    # request url\n",
    "    res = requests.get(url)\n",
    "\n",
    "    # Create content\n",
    "    soup = BeautifulSoup(res.content, \"lxml\")\n",
    "\n",
    "    # Find the container\n",
    "    table = soup.find(\"div\", {\"id\": \"debateContent\"})\n",
    "\n",
    "    # Create lists\n",
    "    speakers = []\n",
    "    text= []\n",
    "\n",
    "    # find speaker names\n",
    "    names = table.select(\"h2\") # Skip the header row\n",
    "\n",
    "    for i in names:\n",
    "        speakers.append(i.text)\n",
    "\n",
    "    # find text\n",
    "    commentary = table.select(\"p\", {\"id\": \"hs_Para\"}) \n",
    "\n",
    "    for i in commentary:\n",
    "        text.append(i.text)\n",
    "        text = list(filter(None, text))\n",
    "\n",
    "    df = pd.DataFrame({\"speaker\": speakers,\n",
    "                 \"text\": text})\n",
    "\n",
    "    df[\"speaker\"] = df[\"speaker\"].map(lambda x: re.sub(\"[^a-zA-Z]\", \" \", x))\n",
    "    \n",
    "    filename = url.split(\"/\")[-1]\n",
    "    \n",
    "    return df.to_csv(f\"../data/parliament/{filename}.csv\", index = False)"
   ]
  },
  {
   "cell_type": "code",
   "execution_count": 96,
   "metadata": {},
   "outputs": [],
   "source": [
    "for url in urls:\n",
    "    get_text(url)"
   ]
  },
  {
   "cell_type": "code",
   "execution_count": 98,
   "metadata": {},
   "outputs": [],
   "source": [
    "df.to_csv(\"../data/text.csv\", index = False)"
   ]
  },
  {
   "cell_type": "code",
   "execution_count": 100,
   "metadata": {},
   "outputs": [],
   "source": [
    "df.reset_index(inplace = True)"
   ]
  },
  {
   "cell_type": "code",
   "execution_count": 106,
   "metadata": {},
   "outputs": [],
   "source": [
    "df2"
   ]
  },
  {
   "cell_type": "code",
   "execution_count": null,
   "metadata": {},
   "outputs": [],
   "source": []
  }
 ],
 "metadata": {
  "kernelspec": {
   "display_name": "Python 3",
   "language": "python",
   "name": "python3"
  },
  "language_info": {
   "codemirror_mode": {
    "name": "ipython",
    "version": 3
   },
   "file_extension": ".py",
   "mimetype": "text/x-python",
   "name": "python",
   "nbconvert_exporter": "python",
   "pygments_lexer": "ipython3",
   "version": "3.7.4"
  }
 },
 "nbformat": 4,
 "nbformat_minor": 2
}
